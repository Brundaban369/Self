{
 "cells": [
  {
   "cell_type": "code",
   "execution_count": 3,
   "id": "36b4cec9",
   "metadata": {},
   "outputs": [],
   "source": [
    "import polars as pl"
   ]
  },
  {
   "cell_type": "code",
   "execution_count": 4,
   "id": "a3774e7f",
   "metadata": {},
   "outputs": [
    {
     "name": "stdout",
     "output_type": "stream",
     "text": [
      "shape: (5,)\n",
      "Series: '' [i64]\n",
      "[\n",
      "\t1\n",
      "\t2\n",
      "\t3\n",
      "\t4\n",
      "\t5\n",
      "]\n"
     ]
    }
   ],
   "source": [
    "s = pl.Series([1, 2, 3, 4, 5])\n",
    "print(s)"
   ]
  },
  {
   "cell_type": "code",
   "execution_count": 5,
   "id": "d80faa34",
   "metadata": {},
   "outputs": [
    {
     "name": "stdout",
     "output_type": "stream",
     "text": [
      "shape: (2, 2)\n",
      "┌──────────┬─────┐\n",
      "│ Name     ┆ Age │\n",
      "│ ---      ┆ --- │\n",
      "│ str      ┆ i64 │\n",
      "╞══════════╪═════╡\n",
      "│ debanshu ┆ 20  │\n",
      "│ sourav   ┆ 27  │\n",
      "└──────────┴─────┘\n"
     ]
    }
   ],
   "source": [
    "df = pl.DataFrame({\"Name\": [\"debanshu\", \"sourav\"], \"Age\": [20, 27]})\n",
    "print(df)"
   ]
  },
  {
   "cell_type": "code",
   "execution_count": 14,
   "id": "25de9a1d",
   "metadata": {},
   "outputs": [
    {
     "name": "stdout",
     "output_type": "stream",
     "text": [
      "[['alpha' '1']\n",
      " ['beta' '2']\n",
      " ['gamma' '3']]\n"
     ]
    }
   ],
   "source": [
    "import numpy as np\n",
    "arr =np.array([[\"alpha\",1], [\"beta\", 2], [\"gamma\", 3]])\n",
    "print(arr)"
   ]
  },
  {
   "cell_type": "code",
   "execution_count": 9,
   "id": "a8dead0b",
   "metadata": {},
   "outputs": [
    {
     "name": "stdout",
     "output_type": "stream",
     "text": [
      "shape: (3, 2)\n",
      "┌─────────┬───────┐\n",
      "│ column1 ┆ value │\n",
      "│ ---     ┆ ---   │\n",
      "│ str     ┆ str   │\n",
      "╞═════════╪═══════╡\n",
      "│ alpha   ┆ 1     │\n",
      "│ beta    ┆ 2     │\n",
      "│ gamma   ┆ 3     │\n",
      "└─────────┴───────┘\n"
     ]
    }
   ],
   "source": [
    "df =pl.from_numpy(arr,[\"column1\", \"value\"])\n",
    "print(df)"
   ]
  },
  {
   "cell_type": "code",
   "execution_count": 10,
   "id": "fac256a9",
   "metadata": {},
   "outputs": [
    {
     "name": "stdout",
     "output_type": "stream",
     "text": [
      "shape: (3, 1)\n",
      "┌─────────┐\n",
      "│ column1 │\n",
      "│ ---     │\n",
      "│ str     │\n",
      "╞═════════╡\n",
      "│ alpha   │\n",
      "│ beta    │\n",
      "│ gamma   │\n",
      "└─────────┘\n"
     ]
    }
   ],
   "source": [
    "Selected_df = df.select([\"column1\"])\n",
    "print(Selected_df)"
   ]
  },
  {
   "cell_type": "code",
   "execution_count": 12,
   "id": "3e249bc8",
   "metadata": {},
   "outputs": [
    {
     "name": "stdout",
     "output_type": "stream",
     "text": [
      "shape: (1, 2)\n",
      "┌─────────┬───────┐\n",
      "│ column1 ┆ value │\n",
      "│ ---     ┆ ---   │\n",
      "│ str     ┆ str   │\n",
      "╞═════════╪═══════╡\n",
      "│ gamma   ┆ 3     │\n",
      "└─────────┴───────┘\n"
     ]
    }
   ],
   "source": [
    "result_df =df.filter(pl.col(\"value\") > \"2\")\n",
    "print(result_df)"
   ]
  },
  {
   "cell_type": "code",
   "execution_count": 19,
   "id": "9da6532b",
   "metadata": {},
   "outputs": [
    {
     "name": "stdout",
     "output_type": "stream",
     "text": [
      "shape: (3, 2)\n",
      "┌─────────┬───────┐\n",
      "│ column1 ┆ value │\n",
      "│ ---     ┆ ---   │\n",
      "│ str     ┆ str   │\n",
      "╞═════════╪═══════╡\n",
      "│ gamma   ┆ 3     │\n",
      "│ beta    ┆ 2     │\n",
      "│ alpha   ┆ 1     │\n",
      "└─────────┴───────┘\n"
     ]
    }
   ],
   "source": [
    "Result_df = df.sort([\"value\"], descending=True)\n",
    "print(Result_df)"
   ]
  },
  {
   "cell_type": "code",
   "execution_count": 22,
   "id": "ee41a67a",
   "metadata": {},
   "outputs": [
    {
     "name": "stdout",
     "output_type": "stream",
     "text": [
      "shape: (1, 2)\n",
      "┌─────────┬───────┐\n",
      "│ column1 ┆ value │\n",
      "│ ---     ┆ ---   │\n",
      "│ str     ┆ str   │\n",
      "╞═════════╪═══════╡\n",
      "│ beta    ┆ 2     │\n",
      "└─────────┴───────┘\n"
     ]
    }
   ],
   "source": [
    "filtered = df.filter((df[\"value\"] > \"1\") & (df[\"column1\"] == \"beta\"))\n",
    "print(filtered)"
   ]
  },
  {
   "cell_type": "code",
   "execution_count": 24,
   "id": "559d52bb",
   "metadata": {},
   "outputs": [
    {
     "name": "stdout",
     "output_type": "stream",
     "text": [
      "shape: (2, 2)\n",
      "┌─────────┬───────┐\n",
      "│ column1 ┆ value │\n",
      "│ ---     ┆ ---   │\n",
      "│ str     ┆ str   │\n",
      "╞═════════╪═══════╡\n",
      "│ alpha   ┆ 1     │\n",
      "│ beta    ┆ 2     │\n",
      "└─────────┴───────┘\n"
     ]
    }
   ],
   "source": [
    "filtered = df.filter(df[\"value\"].is_in([\"1\", \"2\"]))\n",
    "print(filtered)"
   ]
  },
  {
   "cell_type": "code",
   "execution_count": 25,
   "id": "f400ef85",
   "metadata": {},
   "outputs": [
    {
     "name": "stdout",
     "output_type": "stream",
     "text": [
      "shape: (3, 3)\n",
      "┌───────┬───────┬─────────┐\n",
      "│ class ┆ grade ┆ subject │\n",
      "│ ---   ┆ ---   ┆ ---     │\n",
      "│ str   ┆ i64   ┆ str     │\n",
      "╞═══════╪═══════╪═════════╡\n",
      "│ A     ┆ 20    ┆ Math    │\n",
      "│ B     ┆ 30    ┆ Science │\n",
      "│ C     ┆ 40    ┆ English │\n",
      "└───────┴───────┴─────────┘\n"
     ]
    }
   ],
   "source": [
    "datanew = {\"class\": [\"A\", \"B\", \"C\"], \"grade\": [20, 30, 40], \"subject\": [\"Math\", \"Science\", \"English\"]}\n",
    "data =pl.DataFrame(datanew)\n",
    "print(data)"
   ]
  },
  {
   "cell_type": "code",
   "execution_count": 26,
   "id": "bc298d0e",
   "metadata": {},
   "outputs": [
    {
     "name": "stdout",
     "output_type": "stream",
     "text": [
      "shape: (3, 3)\n",
      "┌───────┬───────┬─────────┐\n",
      "│ class ┆ grade ┆ subject │\n",
      "│ ---   ┆ ---   ┆ ---     │\n",
      "│ str   ┆ f64   ┆ str     │\n",
      "╞═══════╪═══════╪═════════╡\n",
      "│ B     ┆ 30.0  ┆ null    │\n",
      "│ A     ┆ 20.0  ┆ null    │\n",
      "│ C     ┆ 40.0  ┆ null    │\n",
      "└───────┴───────┴─────────┘\n"
     ]
    }
   ],
   "source": [
    "Groped = data.group_by(\"class\").mean()\n",
    "print(Groped)"
   ]
  },
  {
   "cell_type": "code",
   "execution_count": 27,
   "id": "caa5b3cb",
   "metadata": {},
   "outputs": [
    {
     "name": "stdout",
     "output_type": "stream",
     "text": [
      "shape: (3, 3)\n",
      "┌───────┬───────┬─────────┐\n",
      "│ class ┆ grade ┆ subject │\n",
      "│ ---   ┆ ---   ┆ ---     │\n",
      "│ str   ┆ i64   ┆ str     │\n",
      "╞═══════╪═══════╪═════════╡\n",
      "│ A     ┆ 20    ┆ Math    │\n",
      "│ B     ┆ 30    ┆ Science │\n",
      "│ C     ┆ 40    ┆ English │\n",
      "└───────┴───────┴─────────┘\n"
     ]
    }
   ],
   "source": [
    "sorted = data.sort(\"class\")\n",
    "print(sorted)"
   ]
  },
  {
   "cell_type": "code",
   "execution_count": null,
   "id": "361354a2",
   "metadata": {},
   "outputs": [],
   "source": []
  }
 ],
 "metadata": {
  "kernelspec": {
   "display_name": "base",
   "language": "python",
   "name": "python3"
  },
  "language_info": {
   "codemirror_mode": {
    "name": "ipython",
    "version": 3
   },
   "file_extension": ".py",
   "mimetype": "text/x-python",
   "name": "python",
   "nbconvert_exporter": "python",
   "pygments_lexer": "ipython3",
   "version": "3.12.7"
  }
 },
 "nbformat": 4,
 "nbformat_minor": 5
}
