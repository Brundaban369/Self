{
 "cells": [
  {
   "cell_type": "markdown",
   "id": "72a4a713",
   "metadata": {},
   "source": [
    "# main function\n",
    "## Function to create a directory\n",
    "### Function to check if a directory exists\n",
    "\n",
    "this is a rehular text\n",
    "\n",
    "---\n",
    "\n",
    "\n",
    "- task list 1\n",
    "- task list 2"
   ]
  },
  {
   "cell_type": "code",
   "execution_count": 1,
   "id": "d89d0eb6",
   "metadata": {},
   "outputs": [
    {
     "name": "stdout",
     "output_type": "stream",
     "text": [
      "Average temperature: 23.0\n"
     ]
    }
   ],
   "source": [
    "tempratures =[23, 25, 21, 22, 24]\n",
    "total = 0\n",
    "for temp in tempratures:\n",
    "    total += temp\n",
    "average = total / len(tempratures)\n",
    "print(\"Average temperature:\", average)"
   ]
  },
  {
   "cell_type": "code",
   "execution_count": 2,
   "id": "53fe80cb",
   "metadata": {},
   "outputs": [
    {
     "name": "stdout",
     "output_type": "stream",
     "text": [
      "Average temperature: 23.0\n"
     ]
    }
   ],
   "source": [
    "import numpy as np\n",
    "tempratures = np.array([23, 25, 21, 22, 24])\n",
    "average = np.mean(tempratures)\n",
    "print(\"Average temperature:\", average)"
   ]
  },
  {
   "cell_type": "code",
   "execution_count": 3,
   "id": "3421d527",
   "metadata": {},
   "outputs": [
    {
     "name": "stdout",
     "output_type": "stream",
     "text": [
      "[23 25 21 22 24]\n"
     ]
    }
   ],
   "source": [
    "import numpy as np\n",
    "arr = np.array([23, 25, 21, 22, 24])\n",
    "print(arr)"
   ]
  },
  {
   "cell_type": "code",
   "execution_count": 4,
   "id": "38930b50",
   "metadata": {},
   "outputs": [
    {
     "name": "stdout",
     "output_type": "stream",
     "text": [
      "[0. 0. 0.]\n"
     ]
    }
   ],
   "source": [
    "zeroes_array = np.zeros((3))\n",
    "print(zeroes_array)"
   ]
  },
  {
   "cell_type": "code",
   "execution_count": 5,
   "id": "02106053",
   "metadata": {},
   "outputs": [
    {
     "name": "stdout",
     "output_type": "stream",
     "text": [
      "[[1. 1. 1. 1. 1.]\n",
      " [1. 1. 1. 1. 1.]\n",
      " [1. 1. 1. 1. 1.]\n",
      " [1. 1. 1. 1. 1.]]\n"
     ]
    }
   ],
   "source": [
    "ones_array = np.ones((4,5))\n",
    "print(ones_array)"
   ]
  },
  {
   "cell_type": "code",
   "execution_count": 6,
   "id": "382eed47",
   "metadata": {},
   "outputs": [
    {
     "name": "stdout",
     "output_type": "stream",
     "text": [
      "[[7 7 7]\n",
      " [7 7 7]]\n"
     ]
    }
   ],
   "source": [
    "full_array = np.full((2,3), 7)\n",
    "print(full_array)"
   ]
  },
  {
   "cell_type": "code",
   "execution_count": 10,
   "id": "9d5c72c2",
   "metadata": {},
   "outputs": [
    {
     "name": "stdout",
     "output_type": "stream",
     "text": [
      "[10 13 16 19]\n"
     ]
    }
   ],
   "source": [
    "arr = np.arange(10, 20, 3)\n",
    "print(arr)"
   ]
  },
  {
   "cell_type": "code",
   "execution_count": 9,
   "id": "fbfdca3b",
   "metadata": {},
   "outputs": [
    {
     "name": "stdout",
     "output_type": "stream",
     "text": [
      "[[1. 0. 0. 0. 0.]\n",
      " [0. 1. 0. 0. 0.]\n",
      " [0. 0. 1. 0. 0.]\n",
      " [0. 0. 0. 1. 0.]\n",
      " [0. 0. 0. 0. 1.]]\n"
     ]
    }
   ],
   "source": [
    "identy = np.eye(5)\n",
    "print(identy)"
   ]
  },
  {
   "cell_type": "code",
   "execution_count": 11,
   "id": "7c10ce9a",
   "metadata": {},
   "outputs": [
    {
     "name": "stdout",
     "output_type": "stream",
     "text": [
      "5\n",
      "(5,)\n"
     ]
    }
   ],
   "source": [
    "arr = np.array([23, 25, 21, 22, 24])\n",
    "print (arr.size)\n",
    "print (arr.shape)"
   ]
  },
  {
   "cell_type": "code",
   "execution_count": 14,
   "id": "8885da4f",
   "metadata": {},
   "outputs": [
    {
     "name": "stdout",
     "output_type": "stream",
     "text": [
      "2\n"
     ]
    }
   ],
   "source": [
    "array = np.array([[23, 25, 21, 22, 24],\n",
    "                  [1, 2, 3, 4, 5]])\n",
    "print(array.ndim)\n"
   ]
  },
  {
   "cell_type": "code",
   "execution_count": 16,
   "id": "2bdde321",
   "metadata": {},
   "outputs": [
    {
     "name": "stdout",
     "output_type": "stream",
     "text": [
      "int32\n"
     ]
    }
   ],
   "source": [
    "arr =np.array([22, 24, 26, 28, 30])\n",
    "print(arr.dtype)"
   ]
  },
  {
   "cell_type": "code",
   "execution_count": 17,
   "id": "9b253a9b",
   "metadata": {},
   "outputs": [
    {
     "name": "stdout",
     "output_type": "stream",
     "text": [
      "[12 14 16]\n",
      "int32\n"
     ]
    }
   ],
   "source": [
    "arr = np.array([12.6, 14.8, 16.2])\n",
    "int_arr = arr.astype(int)\n",
    "print(int_arr)\n",
    "print(int_arr.dtype)"
   ]
  },
  {
   "cell_type": "code",
   "execution_count": 21,
   "id": "74497e3d",
   "metadata": {},
   "outputs": [
    {
     "name": "stdout",
     "output_type": "stream",
     "text": [
      "[11 12 13 14 15]\n",
      "[ 2  4  6  8 10]\n",
      "[ 1  4  9 16 25]\n",
      "[0 1 1 2 2]\n",
      "[1 0 1 0 1]\n"
     ]
    }
   ],
   "source": [
    "arr = np.array([1, 2, 3, 4, 5])\n",
    "print(arr + 10)\n",
    "print(arr * 2)\n",
    "print(arr ** 2)\n",
    "print(arr // 2)\n",
    "print(arr % 2)\n",
    "\n"
   ]
  },
  {
   "cell_type": "code",
   "execution_count": 22,
   "id": "8dec35c1",
   "metadata": {},
   "outputs": [
    {
     "name": "stdout",
     "output_type": "stream",
     "text": [
      "115\n",
      "23.0\n",
      "21\n",
      "25\n",
      "1.4142135623730951\n"
     ]
    }
   ],
   "source": [
    "arr = np.array([23, 25, 21, 22, 24])\n",
    "print(np.sum(arr))\n",
    "print(np.mean(arr))\n",
    "print(np.min(arr))\n",
    "print(np.max(arr))\n",
    "print(np.std(arr))\n"
   ]
  },
  {
   "cell_type": "code",
   "execution_count": null,
   "id": "176c7495",
   "metadata": {},
   "outputs": [
    {
     "name": "stdout",
     "output_type": "stream",
     "text": [
      "22\n",
      "[25 22]\n"
     ]
    }
   ],
   "source": [
    "arr = np.array([23, 25, 21, 22, 24])\n",
    "print(arr[3])\n",
    "print(arr[1:4:2])# start:stop:step"
   ]
  },
  {
   "cell_type": "code",
   "execution_count": 26,
   "id": "31eea78b",
   "metadata": {},
   "outputs": [
    {
     "name": "stdout",
     "output_type": "stream",
     "text": [
      "[23 21 24]\n"
     ]
    }
   ],
   "source": [
    "arr = np.array([23, 25, 21, 22, 24])\n",
    "print(arr[[0, 2, 4]])  # Accessing elements at indices 0, 2, and 4"
   ]
  },
  {
   "cell_type": "code",
   "execution_count": 27,
   "id": "6d27c4e4",
   "metadata": {},
   "outputs": [
    {
     "name": "stdout",
     "output_type": "stream",
     "text": [
      "[23 25 24]\n"
     ]
    }
   ],
   "source": [
    "arr = np.array([23, 25, 21, 22, 24])\n",
    "print(arr[arr > 22])  # Accessing elements greater than 22"
   ]
  },
  {
   "cell_type": "code",
   "execution_count": 35,
   "id": "12a31343",
   "metadata": {},
   "outputs": [
    {
     "name": "stdout",
     "output_type": "stream",
     "text": [
      "[[1 2 3]\n",
      " [4 5 6]]\n"
     ]
    }
   ],
   "source": [
    "arr = np.array([1, 2, 3, 4, 5,6])\n",
    "reshaped_Arr = arr.reshape((2, 3))\n",
    "print(reshaped_Arr)"
   ]
  },
  {
   "cell_type": "code",
   "execution_count": null,
   "id": "931d6f61",
   "metadata": {},
   "outputs": [
    {
     "name": "stdout",
     "output_type": "stream",
     "text": [
      "[1 2 3 4 5 6 7 8]\n",
      "[1 2 3 4 5 6 7 8]\n"
     ]
    }
   ],
   "source": [
    "arr = np.array([[1,2,3,4],[5,6,7,8]])\n",
    "print(arr.ravel()) #view\n",
    "print(arr.flatten())#copy"
   ]
  },
  {
   "cell_type": "code",
   "execution_count": 37,
   "id": "e2f96287",
   "metadata": {},
   "outputs": [
    {
     "name": "stdout",
     "output_type": "stream",
     "text": [
      "[23 25 21 22 24]\n",
      "[23 25 99 21 22 24]\n"
     ]
    }
   ],
   "source": [
    "arr = np.array([23, 25, 21, 22, 24])\n",
    "print(arr)\n",
    "new_arr = np.insert(arr, 2, 99)  \n",
    "print(new_arr)  # Insert 99 at index 2"
   ]
  },
  {
   "cell_type": "code",
   "execution_count": null,
   "id": "c4c3c74b",
   "metadata": {},
   "outputs": [
    {
     "name": "stdout",
     "output_type": "stream",
     "text": [
      "[[1 2 3]\n",
      " [4 5 6]]\n",
      "[ 1 99 88 29  2  3  4  5  6]\n"
     ]
    }
   ],
   "source": [
    "arr_2d = np.array([[1,2,3],[4,5,6]])\n",
    "print(arr_2d)\n",
    "new_arr_2d = (np.insert(arr_2d, 1, [99, 88, 29], axis=0))# 0 for rows, 1 for columns & None for both\n",
    "print(new_arr_2d) "
   ]
  },
  {
   "cell_type": "code",
   "execution_count": 48,
   "id": "c1fe3b6c",
   "metadata": {},
   "outputs": [
    {
     "name": "stdout",
     "output_type": "stream",
     "text": [
      "[23 25 21 22 24 26 27]\n"
     ]
    }
   ],
   "source": [
    "arr = np.array([23, 25, 21, 22, 24])\n",
    "new_arr = np.append(arr, [26, 27])\n",
    "print(new_arr)"
   ]
  },
  {
   "cell_type": "code",
   "execution_count": 49,
   "id": "775e716b",
   "metadata": {},
   "outputs": [
    {
     "name": "stdout",
     "output_type": "stream",
     "text": [
      "[1 2 3 4 5 6]\n"
     ]
    }
   ],
   "source": [
    "arr1 = np.array([1, 2, 3])\n",
    "arr2 = np.array([4, 5, 6])\n",
    "new_arr = np.concatenate((arr1, arr2))\n",
    "print(new_arr)"
   ]
  },
  {
   "cell_type": "code",
   "execution_count": null,
   "id": "760021e6",
   "metadata": {},
   "outputs": [
    {
     "name": "stdout",
     "output_type": "stream",
     "text": [
      "[23 25 21 22 24]\n",
      "[23 21 22 24]\n"
     ]
    }
   ],
   "source": [
    "arr = np.array([23, 25, 21, 22, 24])\n",
    "print(arr)\n",
    "new_arr = np.delete(arr, 1) # Delete element at index 1 \n",
    "print(new_arr)  "
   ]
  },
  {
   "cell_type": "code",
   "execution_count": 52,
   "id": "39eb76e3",
   "metadata": {},
   "outputs": [
    {
     "name": "stdout",
     "output_type": "stream",
     "text": [
      "[[1 2 3]\n",
      " [4 5 6]]\n",
      "[1 2 3 4 5 6]\n"
     ]
    }
   ],
   "source": [
    "arr1 = np.array([1, 2, 3])\n",
    "arr2 = np.array([4, 5, 6])\n",
    "print(np.vstack((arr1, arr2))) \n",
    "print(np.hstack((arr1, arr2))) "
   ]
  },
  {
   "cell_type": "code",
   "execution_count": 53,
   "id": "ed15bf0b",
   "metadata": {},
   "outputs": [
    {
     "name": "stdout",
     "output_type": "stream",
     "text": [
      "[array([23, 25, 21]), array([22, 24, 26])]\n"
     ]
    }
   ],
   "source": [
    "arr = np.array([23, 25, 21, 22, 24, 26])\n",
    "print(np.split(arr, 2))  # Split into 2 equal parts"
   ]
  },
  {
   "cell_type": "code",
   "execution_count": 60,
   "id": "61ea1d56",
   "metadata": {},
   "outputs": [
    {
     "name": "stdout",
     "output_type": "stream",
     "text": [
      "[ 1649.2   863.8  3974.6 63707.7]\n"
     ]
    }
   ],
   "source": [
    "arr =np.array([2356, 1234, 5678, 91011])\n",
    "Discount = 30\n",
    "print(arr.astype(int) * (1 - Discount / 100))  # Apply a 20% discount to each element"
   ]
  },
  {
   "cell_type": "code",
   "execution_count": 63,
   "id": "72e6794a",
   "metadata": {},
   "outputs": [
    {
     "name": "stdout",
     "output_type": "stream",
     "text": [
      "[False False False  True False False]\n",
      "[23. 25. 21. 10. 22. 24.]\n"
     ]
    }
   ],
   "source": [
    "arr = np.array([23, 25, 21, np.nan, 22, 24])\n",
    "print(np.isnan(arr))  # Check for NaN values\n",
    "cleaned_arr = np.nan_to_num(arr,nan=10)  # Replace NaN with 0\n",
    "print(cleaned_arr)  # Display the cleaned array\n"
   ]
  },
  {
   "cell_type": "code",
   "execution_count": 65,
   "id": "4321aa8d",
   "metadata": {},
   "outputs": [
    {
     "name": "stdout",
     "output_type": "stream",
     "text": [
      "[False False  True False False  True False]\n",
      "[ 23.  25.  10.  21.  22. -10.  24.]\n"
     ]
    }
   ],
   "source": [
    "arr = np.array([ 23, 25, np.inf, 21, 22, -np.inf, 24])\n",
    "print(np.isinf(arr))  # Check for infinite values\n",
    "cleaned_arr = np.nan_to_num(arr, posinf=10, neginf=-10)  \n",
    "print(cleaned_arr)  # Replace inf with 10 and -inf with -10\n"
   ]
  }
 ],
 "metadata": {
  "kernelspec": {
   "display_name": "base",
   "language": "python",
   "name": "python3"
  },
  "language_info": {
   "codemirror_mode": {
    "name": "ipython",
    "version": 3
   },
   "file_extension": ".py",
   "mimetype": "text/x-python",
   "name": "python",
   "nbconvert_exporter": "python",
   "pygments_lexer": "ipython3",
   "version": "3.12.7"
  }
 },
 "nbformat": 4,
 "nbformat_minor": 5
}
